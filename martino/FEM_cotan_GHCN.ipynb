{
 "cells": [
  {
   "cell_type": "markdown",
   "metadata": {},
   "source": [
    "# Linear FEM Laplacian on an irregular sampling of the sphere"
   ]
  },
  {
   "cell_type": "markdown",
   "metadata": {},
   "source": [
    "__author: Martino Milani__\n",
    "\n",
    "__e-mail: martino.milani@alumni.epfl.ch__\n",
    "\n",
    "This notebook shows the behaviour of the __Linear FEM Laplacian__ on an irregular sampling of the sphere."
   ]
  },
  {
   "cell_type": "markdown",
   "metadata": {},
   "source": [
    "### HOW TO RUN THIS NOTEBOOK:\n",
    "\n",
    "The problem is to run FEniCS in a Jupyter notebook. Setting the correct paths is painful, so it's better to run juyter notebook in the following Docker container already prepared and set up for you. \n",
    "\n",
    "Once installed Docker, install the FEniCS project Docker script with the following command:\n",
    "\n",
    "> curl -s https://get.fenicsproject.org | bash\n",
    "\n",
    "then, run the following commands\n",
    "\n",
    "> fenicsproject notebook myproject\n",
    "\n",
    "> fenicsproject start myproject\n",
    "\n",
    "to start the juyter notebook in the Docker container. Copy paste the http printed on the console in the browser to access the notebook.\n",
    "\n",
    "Since the Docker image is provided with only fenics installed, in another terminal session run\n",
    "\n",
    "> docker exec -it myproject /bin/bash\n",
    "\n",
    "to ssh into the docker container, in order to pip install all the packages (meshio, pygsp) needed for this notebook. Once the needed packages are installed, the jupyter notebook should run smoothly."
   ]
  },
  {
   "cell_type": "code",
   "execution_count": 1,
   "metadata": {},
   "outputs": [],
   "source": [
    "\"\"\"author: Martino Milani\n",
    "email: martino.milani@alumni.epfl.ch\n",
    "\n",
    "This notebook shows the behaviour of the Heat Kernel Graph Laplacian (HKGL, built following [1])\n",
    "and the Linear FEM Laplacian on the sphere. Two sampling schemes are taken into consideration: \n",
    "the equiangular sampling [2] and HEALPix [3].\n",
    "\n",
    "It is shown that the FEM Laplacian has spectral properties (namely, eigenvalues and eigenvectors)\n",
    "much closer to the ones of the continuous Laplacian, compared to the HKGL\"\"\"\n",
    "from __future__ import print_function\n",
    "%load_ext autoreload\n",
    "%autoreload 2\n",
    "%matplotlib inline \n",
    "import os\n",
    "import numpy as np\n",
    "from matplotlib import pyplot as plt\n",
    "import pygsp as pg\n",
    "\n",
    "\n",
    "from scipy.sparse import csr_matrix\n",
    "from dolfin import has_linear_algebra_backend, has_slepc, Function, grad, File, action, Constant, Mesh,vertex_to_dof_map, SLEPcEigenSolver, dx, Expression, FunctionSpace, TrialFunction, TestFunction, dot, PETScMatrix, assemble, as_backend_type\n",
    "\n",
    "import matplotlib.pyplot as plt\n",
    "from mpl_toolkits.mplot3d import Axes3D\n",
    "from scipy.spatial import ConvexHull\n",
    "import meshio\n",
    "import scipy\n",
    "from pygsp.graphs import Graph"
   ]
  },
  {
   "cell_type": "markdown",
   "metadata": {},
   "source": [
    "# 0) Construction of the HKGL for HEALPIX and the Equiangular sampling\n",
    "\n",
    "We implement the construction of these two sampling schemes in two classes: \n",
    "* `FullEquiangular()`\n",
    "* `FullHEALPix()`\n",
    "\n",
    "Example of usage of the two classes:\n",
    "\n",
    "`sphere = FullHEALPix(nside=16)\n",
    "sphere.plot()\n",
    "sphere.plot_spectrum_analysis()`\n",
    "\n",
    "\n",
    "`sphere = FullEquiangular(nside=16)\n",
    "sphere.plot()\n",
    "sphere.plot_spectrum_analysis()`"
   ]
  },
  {
   "cell_type": "code",
   "execution_count": 2,
   "metadata": {},
   "outputs": [],
   "source": [
    "class MyGraph(Graph):\n",
    "    \"\"\"Base class for the following two classes: FullEquiangular, FullHEALPix.\n",
    "    It provides the implementation of the construction of the mesh given the matrix self.coords.\n",
    "    The matrix self.coords has shape [npix, 3] and it contains the coordinates of each one of the vertices\n",
    "    of the graph.\n",
    "    \n",
    "    It derives from pygsp.graphs.Graph, that implements the following useful commands:\n",
    "        >>>> g = Graph(adjacency = W)\n",
    "        >>>> Graph.L   # the combinatorial graph Laplacian $L=D-W$\n",
    "        >>>> Graph.U   # the graph Fourier basis $L=U^{T} \\Lambda U$ \n",
    "        >>>> Graph.e   # diag(\\Lambda), i.e., the eigenvalues of g.L\n",
    "    \"\"\"\n",
    "    def __init__(self, adjacency, coords):\n",
    "        super(MyGraph, self).__init__(adjacency, coords=coords)\n",
    "        \n",
    "    def _init_vtk(self):\n",
    "        tri = ConvexHull(self.coords)\n",
    "        self.simplices = tri.simplices\n",
    "        \n",
    "    def save_mesh(self, file=\"fenics_data/mesh.xml\"):\n",
    "        self._init_vtk()\n",
    "        cells = {\"triangle\": self.simplices}\n",
    "        meshio.write_points_cells(\n",
    "            file,\n",
    "            self.coords,\n",
    "            cells)\n",
    "          \n",
    "    def plot_spectral_content(self, cl, lmax, title, param):\n",
    "        \"\"\"Helper fumnction to plot the spectral content of the graph Laplacian.\n",
    "        Used in the method plot_spectrum_analysis of the two child classes.\"\"\"\n",
    "\n",
    "        spectral_content = np.empty((lmax+1, lmax+1))\n",
    "        start = 0\n",
    "        for ell in range(lmax+1):\n",
    "            end = start + (2 * ell + 1)\n",
    "            spectral_content[ell] = np.sum(cl[start:end,:], axis=0)/np.sum(cl[start:end,:])\n",
    "            start = end\n",
    "\n",
    "        # --------------- plotting the alignment of the eigenspaces ---------------------\n",
    "        fig1, ax = plt.subplots()\n",
    "        fig2, ax2 = plt.subplots()\n",
    "\n",
    "        sc = spectral_content\n",
    "        sc = sc / sc[0, 0]\n",
    "        im = ax.imshow(sc, cmap=plt.cm.gist_heat_r)\n",
    "        title = ('Alignment of eigenspaces, '+title+'={}').format(param)\n",
    "        ax.set_title(title)\n",
    "        ax.set_xlabel(\"Continuous eigenspaces\")\n",
    "        ax.set_ylabel(\"Discrete eigenspaces\")\n",
    "        \n",
    "        energy_in = np.diag(sc)\n",
    "        ax2.plot(energy_in, 'o')\n",
    "        ax2.set_xlabel(\"Degree\")\n",
    "        ax2.set_ylabel(\"Percentage of alignment\")\n",
    "        ax2.set_title(title)"
   ]
  },
  {
   "cell_type": "code",
   "execution_count": 3,
   "metadata": {},
   "outputs": [],
   "source": [
    "from scipy.sparse import csr_matrix\n",
    "    \n",
    "class FEM_GHCN(MyGraph):\n",
    "    \"\"\"disconneted graph, useful to avoid computing a full graph for big nsides.\n",
    "    Use this class when interested to compute the FEM triangulation.\n",
    "    \n",
    "    Example of usage:\n",
    "    \n",
    "    >>>> sphere = FEM_HEALPix(nside=16)\n",
    "    >>>> sphere.save_mesh(\"mesh.xml\")\"\"\"\n",
    "    \n",
    "    def make_coords(self):\n",
    "        \"\"\"HEALPix sampling.\n",
    "        \n",
    "        This function creates the (npix X 3) matrix that contains all the coordinates\n",
    "        of all the vertices of the graph.\"\"\"\n",
    "        stations = np.load('ghcn_data/ghcn_stations_2010-2014.npz')\n",
    "        data = np.load('ghcn_data/ghcn_data_2010-2014_TMAX.npz')\n",
    "\n",
    "        keep = data['valid_days'].flatten()\n",
    "        data = data['data'].reshape(len(stations['id_ghcn']), -1)\n",
    "        data = data[:, keep]\n",
    "        data = data / 10\n",
    "\n",
    "        # Show the same stations as for the temperature plot.\n",
    "        year, month, day = 2014, 1, 1\n",
    "        t = (year-2010)*365 + (month-1)*30 + (day-1)\n",
    "        keep = ~np.isnan(data[:, t])\n",
    "\n",
    "        data = data[keep]\n",
    "        lon = stations['lon'][keep]\n",
    "        lat = stations['lat'][keep]\n",
    "\n",
    "        print('n_stations: {}, n_days: {}'.format(*data.shape))\n",
    "\n",
    "        # Rotate the view.\n",
    "        lon -= 50\n",
    "        lat -= 20\n",
    "\n",
    "        lon *= np.pi / 180\n",
    "        lat *= np.pi / 180\n",
    "\n",
    "        x = np.cos(lat) * np.cos(lon)\n",
    "        y = np.cos(lat) * np.sin(lon)\n",
    "        z = np.sin(lat)\n",
    "\n",
    "        coords = np.stack([x, y, z], axis=1)\n",
    "        self.x = coords[:,0]\n",
    "        self.y = coords[:,1]\n",
    "        self.z = coords[:,2]\n",
    "        coords = coords[np.random.permutation(np.alen(coords))]\n",
    "        return coords[:500]\n",
    "\n",
    "    \n",
    "    def __init__(self, coords=None):\n",
    "        if coords is None:\n",
    "            self.coords = self.make_coords()\n",
    "        self.npix = np.alen(self.coords)\n",
    "        W = csr_matrix((self.npix, self.npix), dtype=np.float32)\n",
    "\n",
    "        # Test for PETSc and SLEPc\n",
    "        if not has_linear_algebra_backend(\"PETSc\"):\n",
    "            print(\"DOLFIN has not been configured with PETSc. Exiting.\")\n",
    "            exit()\n",
    "\n",
    "        if not has_slepc():\n",
    "            print(\"DOLFIN has not been configured with SLEPc. Exiting.\")\n",
    "            exit()\n",
    "\n",
    "        # Define mesh and function space for the FEM method\n",
    "        self.save_mesh(\"fenics_data/mesh.xml\")\n",
    "        mesh = Mesh(\"fenics_data/mesh.xml\")  # TODO: understand how to pass a mesh to dolfin without saving it to the HDD\n",
    "        global_normal = Expression((\"x[0]\", \"x[1]\", \"x[2]\"), degree=1)\n",
    "        mesh.init_cell_orientations(global_normal)\n",
    "        self.V = FunctionSpace(mesh, \"Lagrange\", 1)\n",
    "\n",
    "        # Define basis and bilinear form\n",
    "        u = TrialFunction(self.V)\n",
    "        v = TestFunction(self.V)\n",
    "        a = dot(grad(u), grad(v))*dx  # lhs of the weak form of the differential problem\n",
    "        b = dot(u, v)*dx              # rhs of the weak form of the differential problem\n",
    "        \n",
    "    \n",
    "        mass_action_form = action(b, Constant(1))\n",
    "        self.M_lumped_PETSC = PETScMatrix()\n",
    "        assemble(b, tensor=self.M_lumped_PETSC)\n",
    "        self.M_lumped_PETSC.zero()\n",
    "        self.M_lumped_PETSC.set_diagonal(assemble(mass_action_form))\n",
    "        \n",
    "        # Assemble stiffness and mass matrix\n",
    "        self.A_PETSC = PETScMatrix()\n",
    "        self.B_PETSC = PETScMatrix()\n",
    "        assemble(a, tensor=self.A_PETSC)\n",
    "        assemble(b, tensor=self.B_PETSC)\n",
    "        \n",
    "        \n",
    "        # just changing format of the matrices to handle them with numpy\n",
    "        A_mat = as_backend_type(self.A_PETSC).mat()\n",
    "        stiffness = csr_matrix(A_mat.getValuesCSR()[::-1], shape=A_mat.size)\n",
    "        B_mat = as_backend_type(self.B_PETSC).mat()\n",
    "        mass = csr_matrix(B_mat.getValuesCSR()[::-1], shape=B_mat.size)\n",
    "        \n",
    "        # reordering\n",
    "        reordering_mask = np.flip(vertex_to_dof_map(self.V), axis=0)\n",
    "        stiffness = stiffness[reordering_mask]\n",
    "        mass = mass[reordering_mask]\n",
    "        self.stiffness = stiffness[:, reordering_mask]\n",
    "        self.mass = mass[:, reordering_mask]\n",
    "        self._D_inv = scipy.sparse.diags(1./np.asarray(np.sum(self.mass, axis=0))[0])\n",
    "        self._L = self._D_inv@self.stiffness\n",
    "        \n",
    "        # not sure about the following lines\n",
    "        W = self._L\n",
    "        W.setdiag(0, 0)\n",
    "        \n",
    "        super(FEM_GHCN, self).__init__(W, coords=self.coords)\n",
    "    \n",
    "    def e(self, N=5):  # how many eigenvectors do I calculate\n",
    "        \n",
    "        # Create eigensolver\n",
    "        eigensolver = SLEPcEigenSolver(self.A_PETSC, self.B_PETSC)\n",
    "        eigensolver.parameters['spectrum'] = 'target real'\n",
    "        eigensolver.parameters['tolerance'] = 1.e-6\n",
    "        eigensolver.parameters['maximum_iterations'] = 1000000\n",
    "        eigensolver.parameters[\"problem_type\"] = \"gen_hermitian\"\n",
    "        print(eigensolver.parameters.str(True))\n",
    "        # Compute all eigenvalues of A x = \\lambda x\n",
    "        print(\"Computing eigenvalues. This can take a minute.\")\n",
    "        eigensolver.solve(N)\n",
    "\n",
    "        self.eig_vectors = np.ndarray((sphere.npix, N), dtype='float')\n",
    "        self.eig_values = np.ndarray(N, dtype='float')\n",
    "        file = File(\"fenics_data/eigenvectors.pvd\")\n",
    "        for i in range(N):\n",
    "            # Extract largest (first) eigenpair\n",
    "            r, c, rx, cx = eigensolver.get_eigenpair(i)\n",
    "\n",
    "            # Initialize function and assign eigenvector\n",
    "            u = Function(self.V)\n",
    "            u.vector()[:] = rx\n",
    "            self.eig_vectors[:, i] = u.compute_vertex_values()  # through this function we don't need the reordering_masks!\n",
    "            self.eig_values[i] = r\n",
    "            file << (u, i)\n",
    "    \n",
    "    def e_lumped(self, N=5):  # how many eigenvectors do I calculate\n",
    "        \n",
    "        # Create eigensolver\n",
    "        eigensolver = SLEPcEigenSolver(self.A_PETSC, self.M_lumped_PETSC)\n",
    "        eigensolver.parameters['spectrum'] = 'target real'\n",
    "        eigensolver.parameters['tolerance'] = 1.e-6\n",
    "        eigensolver.parameters['maximum_iterations'] = 1000000\n",
    "        eigensolver.parameters[\"problem_type\"] = \"gen_hermitian\"\n",
    "        print(eigensolver.parameters.str(True))\n",
    "        # Compute all eigenvalues of A x = \\lambda x\n",
    "        print(\"Computing eigenvalues. This can take a minute.\")\n",
    "        eigensolver.solve(N)\n",
    "\n",
    "        self.eig_vectors = np.ndarray((sphere.npix, N), dtype='float')\n",
    "        self.eig_values = np.ndarray(N, dtype='float')\n",
    "        file = File(\"fenics_data/eigenvectors.pvd\")\n",
    "        for i in range(N):\n",
    "            # Extract largest (first) eigenpair\n",
    "            r, c, rx, cx = eigensolver.get_eigenpair(i)\n",
    "\n",
    "            # Initialize function and assign eigenvector\n",
    "            u = Function(self.V)\n",
    "            u.vector()[:] = rx\n",
    "            self.eig_vectors[:, i] = u.compute_vertex_values()  # through this function we don't need the reordering_masks!\n",
    "            self.eig_values[i] = r\n",
    "            file << (u, i)"
   ]
  },
  {
   "cell_type": "markdown",
   "metadata": {},
   "source": [
    "# 2) Finite Element Method (on the Equiangular sampling only)\n",
    "\n",
    "\n",
    "We now want to repeat the same spectral analysis on the eigenvectors of the Linear FEM Laplacian. We thus need to \n",
    "\n",
    "* assembly the stiffness and mass matrices A, B\n",
    "* compute the eigenvectors of B^{-1}A\n",
    "* as already done in section (1), analyse the alignment of the eigenvectors of B^{-1}A\n",
    "\n",
    "\n",
    "### 2.1) assembling of the stiffness and mass matrix"
   ]
  },
  {
   "cell_type": "code",
   "execution_count": 4,
   "metadata": {},
   "outputs": [
    {
     "name": "stderr",
     "output_type": "stream",
     "text": [
      "WARNING:root:Dolfin's XML is a legacy format. Consider using XDMF instead.\n"
     ]
    },
    {
     "name": "stdout",
     "output_type": "stream",
     "text": [
      "n_stations: 13321, n_days: 1826\n"
     ]
    },
    {
     "name": "stderr",
     "output_type": "stream",
     "text": [
      "DEBUG:UFL:Computing action of form on a coefficient in a different function space.\n",
      "2019-11-28 16:32:33,997:[WARNING](pygsp.graphs.graph.__init__): Adjacency: there are negative edge weights.\n",
      "WARNING:pygsp.graphs.graph:Adjacency: there are negative edge weights.\n"
     ]
    }
   ],
   "source": [
    "sphere = FEM_GHCN()"
   ]
  },
  {
   "cell_type": "code",
   "execution_count": 5,
   "metadata": {},
   "outputs": [
    {
     "data": {
      "text/plain": [
       "<500x500 sparse matrix of type '<class 'numpy.float64'>'\n",
       "\twith 3488 stored elements in Compressed Sparse Row format>"
      ]
     },
     "execution_count": 5,
     "metadata": {},
     "output_type": "execute_result"
    }
   ],
   "source": [
    "sphere.stiffness"
   ]
  },
  {
   "cell_type": "code",
   "execution_count": 6,
   "metadata": {
    "scrolled": true
   },
   "outputs": [
    {
     "data": {
      "text/plain": [
       "<matplotlib.lines.Line2D at 0x7f76886b1048>"
      ]
     },
     "execution_count": 6,
     "metadata": {},
     "output_type": "execute_result"
    },
    {
     "data": {
      "image/png": "[encoded data removed]",
      "text/plain": [
       "<Figure size 432x288 with 1 Axes>"
      ]
     },
     "metadata": {
      "needs_background": "light"
     },
     "output_type": "display_data"
    }
   ],
   "source": [
    "plt.spy(sphere.stiffness)"
   ]
  },
  {
   "cell_type": "code",
   "execution_count": 7,
   "metadata": {},
   "outputs": [
    {
     "data": {
      "text/plain": [
       "<matplotlib.lines.Line2D at 0x7f7688629198>"
      ]
     },
     "execution_count": 7,
     "metadata": {},
     "output_type": "execute_result"
    },
    {
     "data": {
      "image/png": "[encoded data removed]",
      "text/plain": [
       "<Figure size 432x288 with 1 Axes>"
      ]
     },
     "metadata": {
      "needs_background": "light"
     },
     "output_type": "display_data"
    }
   ],
   "source": [
    "plt.spy(sphere.mass)"
   ]
  },
  {
   "cell_type": "code",
   "execution_count": 8,
   "metadata": {},
   "outputs": [],
   "source": [
    "sphere.plotting.update({\n",
    "    'elevation': 0,\n",
    "    'azimuth': 0,\n",
    "    'distance': 8,\n",
    "    'vertex_size': 10,\n",
    "    'vertex_color': (0, 0, 0, 1),\n",
    "    'edge_color': (0.5, 0.5, 0.5, 0.2),\n",
    "})"
   ]
  },
  {
   "cell_type": "code",
   "execution_count": 9,
   "metadata": {
    "scrolled": false
   },
   "outputs": [
    {
     "data": {
      "text/plain": [
       "(<Figure size 432x288 with 1 Axes>,\n",
       " <matplotlib.axes._subplots.Axes3DSubplot at 0x7f76885de438>)"
      ]
     },
     "execution_count": 9,
     "metadata": {},
     "output_type": "execute_result"
    },
    {
     "data": {
      "image/png": "[encoded data removed]",
      "text/plain": [
       "<Figure size 432x288 with 1 Axes>"
      ]
     },
     "metadata": {
      "needs_background": "light"
     },
     "output_type": "display_data"
    }
   ],
   "source": [
    "sphere.plot(edges=True)"
   ]
  },
  {
   "cell_type": "markdown",
   "metadata": {},
   "source": [
    "### 2.2)  Compute the eigenvectors of B^{-1}A"
   ]
  },
  {
   "cell_type": "code",
   "execution_count": 10,
   "metadata": {},
   "outputs": [
    {
     "name": "stdout",
     "output_type": "stream",
     "text": [
      "<Parameter set \"slepc_eigenvalue_solver\" containing 8 parameter(s) and parameter set(s)>\n",
      "\n",
      "  slepc_eigenvalue_solver  |    type          value    range  access  change\n",
      "  --------------------------------------------------------------------------\n",
      "  maximum_iterations       |     int        1000000  Not set       0       0\n",
      "  problem_type             |  string  gen_hermitian  Not set       0       0\n",
      "  solver                   |  string        <unset>  Not set       0       0\n",
      "  spectral_shift           |  double        <unset>  Not set       0       0\n",
      "  spectral_transform       |  string        <unset>  Not set       0       0\n",
      "  spectrum                 |  string    target real  Not set       0       0\n",
      "  tolerance                |  double       0.000001  Not set       0       0\n",
      "  verbose                  |    bool        <unset>  Not set       0       0\n",
      "Computing eigenvalues. This can take a minute.\n"
     ]
    }
   ],
   "source": [
    "sphere.e(N=50)"
   ]
  },
  {
   "cell_type": "code",
   "execution_count": 12,
   "metadata": {},
   "outputs": [
    {
     "name": "stdout",
     "output_type": "stream",
     "text": [
      "<Parameter set \"slepc_eigenvalue_solver\" containing 8 parameter(s) and parameter set(s)>\n",
      "\n",
      "  slepc_eigenvalue_solver  |    type          value    range  access  change\n",
      "  --------------------------------------------------------------------------\n",
      "  maximum_iterations       |     int        1000000  Not set       0       0\n",
      "  problem_type             |  string  gen_hermitian  Not set       0       0\n",
      "  solver                   |  string        <unset>  Not set       0       0\n",
      "  spectral_shift           |  double        <unset>  Not set       0       0\n",
      "  spectral_transform       |  string        <unset>  Not set       0       0\n",
      "  spectrum                 |  string    target real  Not set       0       0\n",
      "  tolerance                |  double       0.000001  Not set       0       0\n",
      "  verbose                  |    bool        <unset>  Not set       0       0\n",
      "Computing eigenvalues. This can take a minute.\n"
     ]
    }
   ],
   "source": [
    "sphere.e_lumped(N=50)"
   ]
  },
  {
   "cell_type": "code",
   "execution_count": 18,
   "metadata": {},
   "outputs": [
    {
     "data": {
      "text/plain": [
       "[<matplotlib.lines.Line2D at 0x7f76882174e0>]"
      ]
     },
     "execution_count": 18,
     "metadata": {},
     "output_type": "execute_result"
    },
    {
     "data": {
      "image/png": "[encoded data removed]",
      "text/plain": [
       "<Figure size 1440x720 with 1 Axes>"
      ]
     },
     "metadata": {
      "needs_background": "light"
     },
     "output_type": "display_data"
    }
   ],
   "source": [
    "fig, ax = plt.subplots(figsize=(20, 10))\n",
    "ax.plot(sphere.eig_values[:10], 'bo')"
   ]
  },
  {
   "cell_type": "code",
   "execution_count": 19,
   "metadata": {},
   "outputs": [
    {
     "name": "stdout",
     "output_type": "stream",
     "text": [
      "<Parameter set \"slepc_eigenvalue_solver\" containing 8 parameter(s) and parameter set(s)>\n",
      "\n",
      "  slepc_eigenvalue_solver  |    type          value    range  access  change\n",
      "  --------------------------------------------------------------------------\n",
      "  maximum_iterations       |     int        1000000  Not set       0       0\n",
      "  problem_type             |  string  gen_hermitian  Not set       0       0\n",
      "  solver                   |  string        <unset>  Not set       0       0\n",
      "  spectral_shift           |  double        <unset>  Not set       0       0\n",
      "  spectral_transform       |  string        <unset>  Not set       0       0\n",
      "  spectrum                 |  string    target real  Not set       0       0\n",
      "  tolerance                |  double       0.000001  Not set       0       0\n",
      "  verbose                  |    bool        <unset>  Not set       0       0\n",
      "Computing eigenvalues. This can take a minute.\n"
     ]
    },
    {
     "data": {
      "text/plain": [
       "[<matplotlib.lines.Line2D at 0x7f76881fd668>]"
      ]
     },
     "execution_count": 19,
     "metadata": {},
     "output_type": "execute_result"
    },
    {
     "data": {
      "image/png": "[encoded data removed]",
      "text/plain": [
       "<Figure size 1440x720 with 1 Axes>"
      ]
     },
     "metadata": {
      "needs_background": "light"
     },
     "output_type": "display_data"
    }
   ],
   "source": [
    "sphere.e(N=50)\n",
    "fig, ax = plt.subplots(figsize=(20, 10))\n",
    "ax.plot(sphere.eig_values[:10], 'bo')"
   ]
  },
  {
   "cell_type": "code",
   "execution_count": null,
   "metadata": {},
   "outputs": [],
   "source": []
  }
 ],
 "metadata": {
  "kernelspec": {
   "display_name": "Python 3",
   "language": "python",
   "name": "python3"
  },
  "language_info": {
   "codemirror_mode": {
    "name": "ipython",
    "version": 3
   },
   "file_extension": ".py",
   "mimetype": "text/x-python",
   "name": "python",
   "nbconvert_exporter": "python",
   "pygments_lexer": "ipython3",
   "version": "3.6.7"
  }
 },
 "nbformat": 4,
 "nbformat_minor": 2
}
