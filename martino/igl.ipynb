{
 "cells": [
  {
   "cell_type": "code",
   "execution_count": 8,
   "metadata": {},
   "outputs": [
    {
     "data": {
      "text/plain": [
       "'/Users/Mart/Documents/EPFL/transphere/martino/ghcn_data'"
      ]
     },
     "execution_count": 8,
     "metadata": {},
     "output_type": "execute_result"
    }
   ],
   "source": [
    "import igl\n",
    "import scipy\n",
    "import numpy as np\n",
    "from meshplot import plot, subplot, interact\n",
    "import os\n",
    "from scipy.sparse import csr_matrix\n",
    "from pygsp.graphs import Graph\n",
    "from scipy.spatial import ConvexHull\n",
    "\n",
    "root_folder = os.path.join(os.getcwd(), \"ghcn_data\")\n",
    "root_folder"
   ]
  },
  {
   "cell_type": "code",
   "execution_count": 5,
   "metadata": {},
   "outputs": [],
   "source": [
    "class cotan(Graph):\n",
    "\n",
    "    def __init__(self, coords):\n",
    "        self.coords = coords\n",
    "        self.tri = ConvexHull(self.coords).simplices\n",
    "        self.npix = np.alen(self.coords)\n",
    "        W = csr_matrix((self.npix, self.npix), dtype=np.float32)\n",
    "        self.cotan = igl.cotmatrix(self.coords, self.tri)\n",
    "        self.mass = igl.massmatrix(self.coords, self.tri, igl.MASSMATRIX_TYPE_BARYCENTRIC)\n",
    "        W = scipy.sparse.diags(1/self.mass.diagonal()) @ self.cotan\n",
    "        W.setdiag(0, 0)\n",
    "        super(cotan, self).__init__(W, coords=self.coords)\n",
    "    \n",
    "    def e(self, N=5):  # how many eigenvectors do I calculate\n",
    "        self.eig_values, self.eig_vectors = scipy.sparse.linalg.eigsh(-self.cotan, k=16, M=self.mass, sigma=0.001)\n",
    "    \n",
    "    def plot_e(self, N=1):\n",
    "        plot(self.coords, self.tri, self.eig_vectors[:,N])\n",
    "    "
   ]
  },
  {
   "cell_type": "code",
   "execution_count": 6,
   "metadata": {},
   "outputs": [
    {
     "name": "stdout",
     "output_type": "stream",
     "text": [
      "n_stations: 500, n_days: 1826\n"
     ]
    }
   ],
   "source": [
    "nstations = 500\n",
    "stations = np.load('ghcn_data/ghcn_stations_2010-2014.npz')\n",
    "data = np.load('ghcn_data/ghcn_data_2010-2014_TMAX.npz')\n",
    "\n",
    "keep = data['valid_days'].flatten()\n",
    "data = data['data'].reshape(len(stations['id_ghcn']), -1)\n",
    "data = data[:, keep]\n",
    "data = data / 10\n",
    "\n",
    "# Show the same stations as for the temperature plot.\n",
    "year, month, day = 2014, 1, 1\n",
    "t = (year-2010)*365 + (month-1)*30 + (day-1)\n",
    "keep = ~np.isnan(data[:, t])\n",
    "\n",
    "data = data[keep]\n",
    "lon = stations['lon'][keep]\n",
    "lat = stations['lat'][keep]\n",
    "\n",
    "print('n_stations: {}, n_days: {}'.format(nstations, data.shape[1]))\n",
    "\n",
    "# Rotate the view.\n",
    "lon -= 50\n",
    "lat -= 20\n",
    "\n",
    "lon *= np.pi / 180\n",
    "lat *= np.pi / 180\n",
    "\n",
    "x = np.cos(lat) * np.cos(lon)\n",
    "y = np.cos(lat) * np.sin(lon)\n",
    "z = np.sin(lat)\n",
    "\n",
    "coords = np.stack([x, y, z], axis=1)\n",
    "coords = coords[np.random.permutation(np.alen(coords))][:nstations]"
   ]
  },
  {
   "cell_type": "code",
   "execution_count": 9,
   "metadata": {},
   "outputs": [],
   "source": [
    "sphere = cotan(coords)"
   ]
  },
  {
   "cell_type": "code",
   "execution_count": 10,
   "metadata": {},
   "outputs": [],
   "source": [
    "sphere.e()"
   ]
  },
  {
   "cell_type": "code",
   "execution_count": 11,
   "metadata": {},
   "outputs": [
    {
     "data": {
      "application/vnd.jupyter.widget-view+json": {
       "model_id": "12c3ed07627842818e6e9151b14848bd",
       "version_major": 2,
       "version_minor": 0
      },
      "text/plain": [
       "Renderer(camera=PerspectiveCamera(children=(DirectionalLight(color='white', intensity=0.6, position=(0.0158111…"
      ]
     },
     "metadata": {},
     "output_type": "display_data"
    }
   ],
   "source": [
    "sphere.plot_e(1)"
   ]
  },
  {
   "cell_type": "code",
   "execution_count": 12,
   "metadata": {},
   "outputs": [
    {
     "data": {
      "text/plain": [
       "[<matplotlib.lines.Line2D at 0x1115c44f0>]"
      ]
     },
     "execution_count": 12,
     "metadata": {},
     "output_type": "execute_result"
    },
    {
     "data": {
      "image/png": "[encoded data removed]",
      "text/plain": [
       "<Figure size 432x288 with 1 Axes>"
      ]
     },
     "metadata": {
      "needs_background": "light"
     },
     "output_type": "display_data"
    }
   ],
   "source": [
    "import matplotlib.pyplot as plt\n",
    "plt.plot(sphere.eig_values, 'bo')"
   ]
  },
  {
   "cell_type": "code",
   "execution_count": null,
   "metadata": {},
   "outputs": [],
   "source": []
  }
 ],
 "metadata": {
  "kernelspec": {
   "display_name": "transphere",
   "language": "python",
   "name": "myenv"
  },
  "language_info": {
   "codemirror_mode": {
    "name": "ipython",
    "version": 3
   },
   "file_extension": ".py",
   "mimetype": "text/x-python",
   "name": "python",
   "nbconvert_exporter": "python",
   "pygments_lexer": "ipython3",
   "version": "3.8.0"
  }
 },
 "nbformat": 4,
 "nbformat_minor": 2
}
