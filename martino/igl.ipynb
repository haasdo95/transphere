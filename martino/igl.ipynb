{
 "cells": [
  {
   "cell_type": "code",
   "execution_count": 1,
   "metadata": {},
   "outputs": [
    {
     "data": {
      "text/plain": [
       "'/Users/Mart/Documents/EPFL/transphere/martino/ghcn_data'"
      ]
     },
     "execution_count": 1,
     "metadata": {},
     "output_type": "execute_result"
    }
   ],
   "source": [
    "import igl\n",
    "import scipy as sp\n",
    "import numpy as np\n",
    "from meshplot import plot, subplot, interact\n",
    "\n",
    "import os\n",
    "\n",
    "root_folder = os.path.join(os.getcwd(), \"ghcn_data\")\n",
    "root_folder"
   ]
  },
  {
   "cell_type": "code",
   "execution_count": 2,
   "metadata": {},
   "outputs": [
    {
     "name": "stdout",
     "output_type": "stream",
     "text": [
      "n_stations: 13321, n_days: 1826\n"
     ]
    }
   ],
   "source": [
    "stations = np.load('ghcn_data/ghcn_stations_2010-2014.npz')\n",
    "data = np.load('ghcn_data/ghcn_data_2010-2014_TMAX.npz')\n",
    "\n",
    "keep = data['valid_days'].flatten()\n",
    "data = data['data'].reshape(len(stations['id_ghcn']), -1)\n",
    "data = data[:, keep]\n",
    "data = data / 10\n",
    "\n",
    "# Show the same stations as for the temperature plot.\n",
    "year, month, day = 2014, 1, 1\n",
    "t = (year-2010)*365 + (month-1)*30 + (day-1)\n",
    "keep = ~np.isnan(data[:, t])\n",
    "\n",
    "data = data[keep]\n",
    "lon = stations['lon'][keep]\n",
    "lat = stations['lat'][keep]\n",
    "\n",
    "print('n_stations: {}, n_days: {}'.format(*data.shape))\n",
    "\n",
    "# Rotate the view.\n",
    "lon -= 50\n",
    "lat -= 20\n",
    "\n",
    "lon *= np.pi / 180\n",
    "lat *= np.pi / 180\n",
    "\n",
    "x = np.cos(lat) * np.cos(lon)\n",
    "y = np.cos(lat) * np.sin(lon)\n",
    "z = np.sin(lat)\n",
    "\n",
    "coords = np.stack([x, y, z], axis=1)\n",
    "x = coords[:,0]\n",
    "y = coords[:,1]\n",
    "z = coords[:,2]\n",
    "v = coords[np.random.permutation(np.alen(coords))]\n",
    "\n",
    "v = v[:500]"
   ]
  },
  {
   "cell_type": "code",
   "execution_count": 3,
   "metadata": {},
   "outputs": [],
   "source": [
    "from scipy.spatial import ConvexHull\n",
    "tri = ConvexHull(v)\n",
    "f = tri.simplices"
   ]
  },
  {
   "cell_type": "code",
   "execution_count": 4,
   "metadata": {},
   "outputs": [
    {
     "name": "stdout",
     "output_type": "stream",
     "text": [
      "Vertices:  500\n",
      "Faces:  996\n"
     ]
    }
   ],
   "source": [
    "## Load a mesh in OFF format\n",
    "v, f\n",
    "\n",
    "## Print the vertices and faces matrices \n",
    "print(\"Vertices: \", len(v))\n",
    "print(\"Faces: \", len(f))"
   ]
  },
  {
   "cell_type": "code",
   "execution_count": 17,
   "metadata": {},
   "outputs": [
    {
     "data": {
      "application/vnd.jupyter.widget-view+json": {
       "model_id": "c42b4435050a467fa6063d63f46b1f06",
       "version_major": 2,
       "version_minor": 0
      },
      "text/plain": [
       "Renderer(camera=PerspectiveCamera(children=(DirectionalLight(color='white', intensity=0.6, position=(0.0210183…"
      ]
     },
     "metadata": {},
     "output_type": "display_data"
    }
   ],
   "source": [
    "from scipy.sparse.linalg import spsolve\n",
    "\n",
    "l = igl.cotmatrix(v, f)\n",
    "m = igl.massmatrix(v, f, igl.MASSMATRIX_TYPE_BARYCENTRIC)\n",
    "\n",
    "plot(v, f, m.diagonal())"
   ]
  },
  {
   "cell_type": "code",
   "execution_count": 13,
   "metadata": {},
   "outputs": [],
   "source": [
    "import scipy"
   ]
  },
  {
   "cell_type": "code",
   "execution_count": 23,
   "metadata": {},
   "outputs": [
    {
     "data": {
      "text/plain": [
       "(array([-1.33379483e+01, -1.14295205e+01, -1.11902709e+01, -1.08536255e+01,\n",
       "        -1.04672763e+01, -9.50522142e+00, -8.60488694e+00, -6.35414696e+00,\n",
       "        -6.22687384e+00, -5.20190688e+00, -4.96338113e+00, -4.22879971e+00,\n",
       "        -2.06016013e+00, -1.93116071e+00, -1.90812671e+00, -1.33530340e-14]),\n",
       " array([[ 0.01284587,  0.00852889,  0.11429085, ...,  0.41747307,\n",
       "         -0.2347164 ,  0.29628867],\n",
       "        [-0.43885942, -0.17606188, -0.01303141, ..., -0.39529252,\n",
       "          0.03149022,  0.29628867],\n",
       "        [-0.44218779,  0.15969581, -0.43412965, ..., -0.18346309,\n",
       "          0.1999496 ,  0.29628867],\n",
       "        ...,\n",
       "        [-0.03326261, -0.23345513, -0.01039548, ...,  0.20593878,\n",
       "         -0.45263509,  0.29628867],\n",
       "        [ 0.01739647, -0.34411285,  0.10065664, ...,  0.24190207,\n",
       "         -0.42975318,  0.29628867],\n",
       "        [-0.05064783, -0.29614055,  0.49534164, ...,  0.24254929,\n",
       "          0.29359393,  0.29628867]]))"
      ]
     },
     "execution_count": 23,
     "metadata": {},
     "output_type": "execute_result"
    }
   ],
   "source": []
  },
  {
   "cell_type": "code",
   "execution_count": 26,
   "metadata": {},
   "outputs": [],
   "source": [
    "import os\n",
    "import numpy as np\n",
    "from scipy.sparse import csr_matrix\n",
    "import scipy\n",
    "from pygsp.graphs import Graph"
   ]
  },
  {
   "cell_type": "code",
   "execution_count": 27,
   "metadata": {},
   "outputs": [],
   "source": [
    "class MyGraph(Graph):\n",
    "    \"\"\"Base class for the following two classes: FullEquiangular, FullHEALPix.\n",
    "    It provides the implementation of the construction of the mesh given the matrix self.coords.\n",
    "    The matrix self.coords has shape [npix, 3] and it contains the coordinates of each one of the vertices\n",
    "    of the graph.\n",
    "    \n",
    "    It derives from pygsp.graphs.Graph, that implements the following useful commands:\n",
    "        >>>> g = Graph(adjacency = W)\n",
    "        >>>> Graph.L   # the combinatorial graph Laplacian $L=D-W$\n",
    "        >>>> Graph.U   # the graph Fourier basis $L=U^{T} \\Lambda U$ \n",
    "        >>>> Graph.e   # diag(\\Lambda), i.e., the eigenvalues of g.L\n",
    "    \"\"\"\n",
    "    def __init__(self, adjacency, coords):\n",
    "        super(MyGraph, self).__init__(adjacency, coords=coords)\n",
    "        \n",
    "    def _init_vtk(self):\n",
    "        tri = ConvexHull(self.coords)\n",
    "        self.simplices = tri.simplices\n",
    "          \n",
    "    def plot_spectral_content(self, cl, lmax, title, param):\n",
    "        \"\"\"Helper fumnction to plot the spectral content of the graph Laplacian.\n",
    "        Used in the method plot_spectrum_analysis of the two child classes.\"\"\"\n",
    "\n",
    "        spectral_content = np.empty((lmax+1, lmax+1))\n",
    "        start = 0\n",
    "        for ell in range(lmax+1):\n",
    "            end = start + (2 * ell + 1)\n",
    "            spectral_content[ell] = np.sum(cl[start:end,:], axis=0)/np.sum(cl[start:end,:])\n",
    "            start = end\n",
    "\n",
    "        # --------------- plotting the alignment of the eigenspaces ---------------------\n",
    "        fig1, ax = plt.subplots()\n",
    "        fig2, ax2 = plt.subplots()\n",
    "\n",
    "        sc = spectral_content\n",
    "        sc = sc / sc[0, 0]\n",
    "        im = ax.imshow(sc, cmap=plt.cm.gist_heat_r)\n",
    "        title = ('Alignment of eigenspaces, '+title+'={}').format(param)\n",
    "        ax.set_title(title)\n",
    "        ax.set_xlabel(\"Continuous eigenspaces\")\n",
    "        ax.set_ylabel(\"Discrete eigenspaces\")\n",
    "        \n",
    "        energy_in = np.diag(sc)\n",
    "        ax2.plot(energy_in, 'o')\n",
    "        ax2.set_xlabel(\"Degree\")\n",
    "        ax2.set_ylabel(\"Percentage of alignment\")\n",
    "        ax2.set_title(title)"
   ]
  },
  {
   "cell_type": "code",
   "execution_count": 63,
   "metadata": {},
   "outputs": [],
   "source": [
    "from scipy.sparse import csr_matrix\n",
    "import igl\n",
    "\n",
    "class cotan_GHCN(MyGraph):\n",
    "    \"\"\"disconneted graph, useful to avoid computing a full graph for big nsides.\n",
    "    Use this class when interested to compute the FEM triangulation.\n",
    "    \n",
    "    Example of usage:\n",
    "    \n",
    "    >>>> sphere = FEM_HEALPix(nside=16)\n",
    "    >>>> sphere.save_mesh(\"mesh.xml\")\"\"\"\n",
    "    \n",
    "    def make_coords(self, nstations=500):\n",
    "        \"\"\"HEALPix sampling.\n",
    "        \n",
    "        This function creates the (npix X 3) matrix that contains all the coordinates\n",
    "        of all the vertices of the graph.\"\"\"\n",
    "        stations = np.load('ghcn_data/ghcn_stations_2010-2014.npz')\n",
    "        data = np.load('ghcn_data/ghcn_data_2010-2014_TMAX.npz')\n",
    "\n",
    "        keep = data['valid_days'].flatten()\n",
    "        data = data['data'].reshape(len(stations['id_ghcn']), -1)\n",
    "        data = data[:, keep]\n",
    "        data = data / 10\n",
    "\n",
    "        # Show the same stations as for the temperature plot.\n",
    "        year, month, day = 2014, 1, 1\n",
    "        t = (year-2010)*365 + (month-1)*30 + (day-1)\n",
    "        keep = ~np.isnan(data[:, t])\n",
    "\n",
    "        data = data[keep]\n",
    "        lon = stations['lon'][keep]\n",
    "        lat = stations['lat'][keep]\n",
    "\n",
    "        print('n_stations: {}, n_days: {}'.format(nstations, data.shape[1]))\n",
    "\n",
    "        # Rotate the view.\n",
    "        lon -= 50\n",
    "        lat -= 20\n",
    "\n",
    "        lon *= np.pi / 180\n",
    "        lat *= np.pi / 180\n",
    "\n",
    "        x = np.cos(lat) * np.cos(lon)\n",
    "        y = np.cos(lat) * np.sin(lon)\n",
    "        z = np.sin(lat)\n",
    "\n",
    "        coords = np.stack([x, y, z], axis=1)\n",
    "        coords = coords[np.random.permutation(np.alen(coords))][:nstations]\n",
    "        return coords\n",
    "\n",
    "    \n",
    "    def __init__(self, nstations=500):\n",
    "\n",
    "        self.coords = self.make_coords(nstations)\n",
    "        self.tri = ConvexHull(self.coords).simplices\n",
    "        self.npix = np.alen(self.coords)\n",
    "        W = csr_matrix((self.npix, self.npix), dtype=np.float32)\n",
    "\n",
    "        self.cotan = igl.cotmatrix(self.coords, self.tri)\n",
    "        self.mass = igl.massmatrix(self.coords, self.tri, igl.MASSMATRIX_TYPE_BARYCENTRIC)\n",
    "        W = scipy.sparse.diags(1/self.mass.diagonal()) @ self.cotan\n",
    "        W.setdiag(0, 0)\n",
    "        \n",
    "        super(cotan_GHCN, self).__init__(W, coords=self.coords)\n",
    "    \n",
    "    def e(self, N=5):  # how many eigenvectors do I calculate\n",
    "        self.eig_values, self.eig_vectors = scipy.sparse.linalg.eigsh(self.cotan, k=16, M=self.mass, sigma=0.001)\n",
    "    \n",
    "    def plot_e(self, N=1):\n",
    "        plot(self.coords, self.tri, self.eig_vectors[:,N])\n",
    "    "
   ]
  },
  {
   "cell_type": "code",
   "execution_count": 64,
   "metadata": {},
   "outputs": [
    {
     "name": "stdout",
     "output_type": "stream",
     "text": [
      "n_stations: 500, n_days: 1826\n"
     ]
    }
   ],
   "source": [
    "sphere = cotan_GHCN()"
   ]
  },
  {
   "cell_type": "code",
   "execution_count": 65,
   "metadata": {},
   "outputs": [],
   "source": [
    "sphere.e()"
   ]
  },
  {
   "cell_type": "code",
   "execution_count": 67,
   "metadata": {},
   "outputs": [
    {
     "data": {
      "application/vnd.jupyter.widget-view+json": {
       "model_id": "30869b13c7c24ef1a02cb89fed114750",
       "version_major": 2,
       "version_minor": 0
      },
      "text/plain": [
       "Renderer(camera=PerspectiveCamera(children=(DirectionalLight(color='white', intensity=0.6, position=(0.0170929…"
      ]
     },
     "metadata": {},
     "output_type": "display_data"
    }
   ],
   "source": [
    "sphere.plot_e(2)"
   ]
  },
  {
   "cell_type": "code",
   "execution_count": null,
   "metadata": {},
   "outputs": [],
   "source": []
  }
 ],
 "metadata": {
  "kernelspec": {
   "display_name": "transphere",
   "language": "python",
   "name": "myenv"
  },
  "language_info": {
   "codemirror_mode": {
    "name": "ipython",
    "version": 3
   },
   "file_extension": ".py",
   "mimetype": "text/x-python",
   "name": "python",
   "nbconvert_exporter": "python",
   "pygments_lexer": "ipython3",
   "version": "3.8.0"
  }
 },
 "nbformat": 4,
 "nbformat_minor": 2
}
