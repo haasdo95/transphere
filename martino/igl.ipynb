{
 "cells": [
  {
   "cell_type": "code",
   "execution_count": 12,
   "metadata": {},
   "outputs": [
    {
     "data": {
      "text/plain": [
       "'/Users/Mart/Documents/EPFL/transphere/martino/ghcn_data'"
      ]
     },
     "execution_count": 12,
     "metadata": {},
     "output_type": "execute_result"
    }
   ],
   "source": [
    "import igl\n",
    "import scipy\n",
    "import numpy as np\n",
    "from meshplot import plot, subplot, interact\n",
    "import os\n",
    "from scipy.sparse import csr_matrix\n",
    "from pygsp.graphs import Graph\n",
    "from scipy.spatial import ConvexHull\n",
    "import matplotlib.pyplot as plt\n",
    "\n",
    "root_folder = os.path.join(os.getcwd(), \"ghcn_data\")\n",
    "root_folder"
   ]
  },
  {
   "cell_type": "code",
   "execution_count": 2,
   "metadata": {},
   "outputs": [],
   "source": [
    "class cotan(Graph):\n",
    "\n",
    "    def __init__(self, coords):\n",
    "        self.coords = coords\n",
    "        self.tri = ConvexHull(self.coords).simplices\n",
    "        self.npix = np.alen(self.coords)\n",
    "        W = csr_matrix((self.npix, self.npix), dtype=np.float32)\n",
    "        self.cotan = igl.cotmatrix(self.coords, self.tri)\n",
    "        self.mass = igl.massmatrix(self.coords, self.tri, igl.MASSMATRIX_TYPE_BARYCENTRIC)\n",
    "        W = scipy.sparse.diags(1/self.mass.diagonal()) @ self.cotan\n",
    "        W.setdiag(0, 0)\n",
    "        super(cotan, self).__init__(W, coords=self.coords)\n",
    "    \n",
    "    def e(self, k=5):  # how many eigenvectors do I calculate\n",
    "        self.eig_values, self.eig_vectors = scipy.sparse.linalg.eigsh(-self.cotan, k=k, M=self.mass, sigma=0.001)\n",
    "    \n",
    "    def plot_e(self, N=1):\n",
    "        plot(self.coords, self.tri, self.eig_vectors[:,N])\n",
    "    "
   ]
  },
  {
   "cell_type": "markdown",
   "metadata": {},
   "source": [
    "# 1) GHCN"
   ]
  },
  {
   "cell_type": "code",
   "execution_count": 52,
   "metadata": {},
   "outputs": [],
   "source": [
    "def create_GHCN(nstations = 500):\n",
    "    stations = np.load('ghcn_data/ghcn_stations_2010-2014.npz')\n",
    "    data = np.load('ghcn_data/ghcn_data_2010-2014_TMAX.npz')\n",
    "    \n",
    "    keep = data['valid_days'].flatten()\n",
    "    data = data['data'].reshape(len(stations['id_ghcn']), -1)\n",
    "    data = data[:, keep]\n",
    "    data = data / 10\n",
    "\n",
    "    # Show the same stations as for the temperature plot.\n",
    "    year, month, day = 2014, 1, 1\n",
    "    t = (year-2010)*365 + (month-1)*30 + (day-1)\n",
    "    keep = ~np.isnan(data[:, t])\n",
    "\n",
    "    data = data[keep]\n",
    "    lon = stations['lon'][keep]\n",
    "    lat = stations['lat'][keep]\n",
    "\n",
    "    print('n_stations: {}, n_days: {}'.format(nstations, data.shape[1]))\n",
    "\n",
    "    # Rotate the view.\n",
    "    lon -= 50\n",
    "    lat -= 20\n",
    "\n",
    "    lon *= np.pi / 180\n",
    "    lat *= np.pi / 180\n",
    "\n",
    "    x = np.cos(lat) * np.cos(lon)\n",
    "    y = np.cos(lat) * np.sin(lon)\n",
    "    z = np.sin(lat)\n",
    "\n",
    "    coords = np.stack([x, y, z], axis=1)\n",
    "    max_stations = np.alen(coords)\n",
    "    if nstations > max_stations:\n",
    "        print(\"warning: there are only {} stations\".format(np.alen(coords)))\n",
    "        return coords\n",
    "    return coords[np.random.permutation(np.alen(coords))][:nstations]"
   ]
  },
  {
   "cell_type": "code",
   "execution_count": 53,
   "metadata": {},
   "outputs": [
    {
     "name": "stdout",
     "output_type": "stream",
     "text": [
      "n_stations: 1000, n_days: 1826\n"
     ]
    }
   ],
   "source": [
    "coords = create_GHCN(nstations = 1000)"
   ]
  },
  {
   "cell_type": "code",
   "execution_count": 54,
   "metadata": {},
   "outputs": [],
   "source": [
    "sphere = cotan(coords)"
   ]
  },
  {
   "cell_type": "code",
   "execution_count": 57,
   "metadata": {},
   "outputs": [],
   "source": [
    "sphere.e(k=50)"
   ]
  },
  {
   "cell_type": "code",
   "execution_count": 63,
   "metadata": {},
   "outputs": [
    {
     "data": {
      "application/vnd.jupyter.widget-view+json": {
       "model_id": "dfdd18c5a0e641679c07e9dfe18d211d",
       "version_major": 2,
       "version_minor": 0
      },
      "text/plain": [
       "Renderer(camera=PerspectiveCamera(children=(DirectionalLight(color='white', intensity=0.6, position=(0.0215089…"
      ]
     },
     "metadata": {},
     "output_type": "display_data"
    }
   ],
   "source": [
    "sphere.plot_e(5)"
   ]
  },
  {
   "cell_type": "code",
   "execution_count": 61,
   "metadata": {},
   "outputs": [
    {
     "data": {
      "text/plain": [
       "[<matplotlib.lines.Line2D at 0x11598cb50>]"
      ]
     },
     "execution_count": 61,
     "metadata": {},
     "output_type": "execute_result"
    },
    {
     "data": {
      "image/png": "[encoded data removed]",
      "text/plain": [
       "<Figure size 432x288 with 1 Axes>"
      ]
     },
     "metadata": {
      "needs_background": "light"
     },
     "output_type": "display_data"
    }
   ],
   "source": [
    "plt.plot(sphere.eig_values[:10], 'bo')"
   ]
  },
  {
   "cell_type": "markdown",
   "metadata": {},
   "source": [
    "# 2) Cotan VS B&N\n",
    "\n",
    "## 2.1) Equiangular"
   ]
  },
  {
   "cell_type": "markdown",
   "metadata": {},
   "source": [
    "### 2.1.1) cotan"
   ]
  },
  {
   "cell_type": "code",
   "execution_count": 4,
   "metadata": {},
   "outputs": [],
   "source": [
    "def create_equiangular(bw):\n",
    "    alpha = np.arange(2 * bw) * np.pi / bw\n",
    "    beta = np.arange(2 * bw) * np.pi / (2. * bw)\n",
    "    theta, phi = np.meshgrid(*(beta, alpha),indexing='ij')\n",
    "    ct = np.cos(theta).flatten()\n",
    "    st = np.sin(theta).flatten()\n",
    "    cp = np.cos(phi).flatten()\n",
    "    sp = np.sin(phi).flatten()\n",
    "    x = st * cp\n",
    "    y = st * sp\n",
    "    z = ct\n",
    "    coords = np.vstack([x, y, z]).T\n",
    "    coords = np.asarray(coords, dtype=np.float32)\n",
    "    coords = coords[2*bw-1:]\n",
    "    return coords"
   ]
  },
  {
   "cell_type": "code",
   "execution_count": 5,
   "metadata": {},
   "outputs": [],
   "source": [
    "bw = 128\n",
    "coords = create_equiangular(bw)"
   ]
  },
  {
   "cell_type": "code",
   "execution_count": 6,
   "metadata": {},
   "outputs": [
    {
     "name": "stderr",
     "output_type": "stream",
     "text": [
      "2019-12-09 12:15:17,153:[WARNING](pygsp.graphs.graph.__init__): Adjacency: there are negative edge weights.\n"
     ]
    }
   ],
   "source": [
    "k = 50\n",
    "sphere = cotan(coords)\n",
    "sphere.e(k)"
   ]
  },
  {
   "cell_type": "code",
   "execution_count": 7,
   "metadata": {},
   "outputs": [
    {
     "data": {
      "application/vnd.jupyter.widget-view+json": {
       "model_id": "6172ee800a81438ba857845467f0f9f7",
       "version_major": 2,
       "version_minor": 0
      },
      "text/plain": [
       "Renderer(camera=PerspectiveCamera(children=(DirectionalLight(color='white', intensity=0.6, position=(0.0, 0.0,…"
      ]
     },
     "metadata": {},
     "output_type": "display_data"
    }
   ],
   "source": [
    "sphere.plot_e(49)"
   ]
  },
  {
   "cell_type": "code",
   "execution_count": 33,
   "metadata": {},
   "outputs": [
    {
     "data": {
      "text/plain": [
       "[<matplotlib.lines.Line2D at 0x11b9f5ac0>]"
      ]
     },
     "execution_count": 33,
     "metadata": {},
     "output_type": "execute_result"
    },
    {
     "data": {
      "image/png": "[encoded data removed]",
      "text/plain": [
       "<Figure size 432x288 with 1 Axes>"
      ]
     },
     "metadata": {
      "needs_background": "light"
     },
     "output_type": "display_data"
    }
   ],
   "source": [
    "plt.plot(sphere.eig_values, 'bo')"
   ]
  },
  {
   "cell_type": "markdown",
   "metadata": {},
   "source": [
    "### 2.1.2) B&N"
   ]
  },
  {
   "cell_type": "code",
   "execution_count": 44,
   "metadata": {},
   "outputs": [
    {
     "name": "stderr",
     "output_type": "stream",
     "text": [
      "<>:31: SyntaxWarning: \"is\" with a literal. Did you mean \"==\"?\n",
      "<>:34: SyntaxWarning: \"is\" with a literal. Did you mean \"==\"?\n",
      "<>:176: SyntaxWarning: \"is not\" with a literal. Did you mean \"!=\"?\n",
      "<>:31: SyntaxWarning: \"is\" with a literal. Did you mean \"==\"?\n",
      "<>:34: SyntaxWarning: \"is\" with a literal. Did you mean \"==\"?\n",
      "<>:176: SyntaxWarning: \"is not\" with a literal. Did you mean \"!=\"?\n",
      "<ipython-input-44-1cb6011dcd96>:31: SyntaxWarning: \"is\" with a literal. Did you mean \"==\"?\n",
      "  if sptype is 'DH':\n",
      "<ipython-input-44-1cb6011dcd96>:34: SyntaxWarning: \"is\" with a literal. Did you mean \"==\"?\n",
      "  elif sptype is 'SOFT':  # SO(3) Fourier Transform optimal\n",
      "<ipython-input-44-1cb6011dcd96>:176: SyntaxWarning: \"is not\" with a literal. Did you mean \"!=\"?\n",
      "  if w_mat is not 'one':\n"
     ]
    }
   ],
   "source": [
    "from scipy import spatial\n",
    "from scipy import sparse\n",
    "\n",
    "class SphereEquiangular(Graph):\n",
    "    \"\"\"class taken from Frederick Gusset's repo\n",
    "    https://github.com/Droxef/PDMdeepsphere/blob/master/Experiments/Graphs/equiangular_and_other_graphs.ipynb\"\"\"\n",
    "    \n",
    "    def __init__(self, bw=64, sptype='DH', pole='disconnected', neighbors=8, w_mat=None, dist='geodesic', \n",
    "                 affine=0., geometry='sphere', delta='one', **kwargs):\n",
    "        \"\"\"Sphere with an equiangular sampling\n",
    "         Parameters\n",
    "        ----------\n",
    "        bw : int\n",
    "            bandwidth, size of grid  (default = 64)\n",
    "        sptype: str\n",
    "            sampling type, possible arguments are 'DH', 'SOFT', ... (default = 'DH')\n",
    "        pole: str\n",
    "            how to manage the pole of the cylinder, possible arguments are 'disconnected', 'connected' (default = 'disconnected')\n",
    "        ---------\n",
    "        TODO: unique on neighbor\n",
    "        TODO: CC and GL are not equiangular and must be implement in other ways\n",
    "        \"\"\"\n",
    "        self.bw = bw\n",
    "        self.sptype = sptype\n",
    "        self.pole = pole\n",
    "        if pole not in ['disconnected', 'connected']:\n",
    "            raise ValueError('Unknown pole value:' + pole) \n",
    "        if sptype not in ['DH', 'SOFT', 'CC', 'GL']:\n",
    "            raise ValueError('Unknown sampling type:' + sptype) \n",
    "        if neighbors not in [4, 8, 'all', 'full']:\n",
    "            raise ValueError('impossible numbers of neighbors:' + neighbors) \n",
    "        \n",
    "        ## sampling and coordinates calculation\n",
    "        if sptype is 'DH':\n",
    "            beta = np.arange(2 * bw) * np.pi / (2. * bw)  # Driscoll-Heally\n",
    "            alpha = np.arange(2 * bw) * np.pi / bw\n",
    "        elif sptype is 'SOFT':  # SO(3) Fourier Transform optimal\n",
    "            beta = np.pi * (2 * np.arange(2 * bw) + 1) / (4. * bw)\n",
    "            alpha = np.arange(2 * bw) * np.pi / bw\n",
    "        elif sptype == 'CC':  # Clenshaw-Curtis\n",
    "            beta = np.linspace(0, np.pi, 2 * bw + 1)\n",
    "            alpha = np.linspace(0, 2 * np.pi, 2 * bw + 2, endpoint=False)\n",
    "        elif sptype == 'GL':  # Gauss-legendre\n",
    "            from numpy.polynomial.legendre import leggauss\n",
    "            x, _ = leggauss(bw + 1)  # TODO: leggauss docs state that this may not be only stable for orders > 100\n",
    "            beta = np.arccos(x)\n",
    "            alpha = np.arange(2 * bw + 2) * np.pi / (bw + 1)\n",
    "        theta, phi = np.meshgrid(*(beta, alpha),indexing='ij')\n",
    "        self.lat, self.lon = theta.shape\n",
    "        # do we want cylinder coordinates?\n",
    "        if geometry == 'sphere':\n",
    "            ct = np.cos(theta).flatten()\n",
    "            st = np.sin(theta).flatten()\n",
    "        elif geometry == 'cylinder':\n",
    "            ct = theta.flatten() * 2 * bw / np.pi\n",
    "            st = 1\n",
    "        cp = np.cos(phi).flatten()\n",
    "        sp = np.sin(phi).flatten()\n",
    "        x = st * cp\n",
    "        y = st * sp\n",
    "        z = ct\n",
    "        coords = np.vstack([x, y, z]).T\n",
    "        coords = np.asarray(coords, dtype=np.float32)\n",
    "        self.npix = len(coords)\n",
    "        \n",
    "        if neighbors=='full':\n",
    "            self.coords = coords\n",
    "            distances = spatial.distance.cdist(coords, coords)**2\n",
    "            weights = 1 / distances\n",
    "            for i in range(np.alen(weights)):\n",
    "                weights[i, i] = 0.\n",
    "            W = sparse.csr_matrix(weights, dtype=np.float32)\n",
    "            plotting = {\"limits\": np.array([-1, 1, -1, 1, -1, 1])}\n",
    "            super(CylinderEquiangular, self).__init__(W=W, coords=coords,\n",
    "                                     plotting=plotting, **kwargs)\n",
    "            return\n",
    "        \n",
    "        ## neighbors and weight matrix calculation\n",
    "        def one(x):\n",
    "            return 1\n",
    "        if delta == 'one':\n",
    "            fun = one\n",
    "        else:\n",
    "            def fun(x):\n",
    "                lat = abs(x//self.lat - self.lat//2)\n",
    "                delta = 1+lat*(self.lon-1)/self.lat\n",
    "                return int(delta)\n",
    "        \n",
    "        def south(x):\n",
    "            if x >= self.npix - self.lat:\n",
    "                if pole == 'connected':\n",
    "                    return (x + self.lat//2)%self.lat + self.npix - self.lat\n",
    "                else:\n",
    "                    return -1\n",
    "            return x + self.lon\n",
    "\n",
    "        def north(x):\n",
    "            if x < self.lat:\n",
    "                if pole == 'connected':\n",
    "                    return (x + self.lat//2)%self.lat\n",
    "                else:\n",
    "                    return -1\n",
    "            return x - self.lon\n",
    "\n",
    "        def west(x, fun=fun):\n",
    "            delta = fun(x)\n",
    "            if x%(self.lon)<delta:\n",
    "                try:\n",
    "                    assert x//self.lat == (x-delta+self.lon)//self.lat\n",
    "                except:\n",
    "                    print(x)\n",
    "                    print(delta)\n",
    "                    print(x-delta+self.lon)\n",
    "                    print(x//self.lat)\n",
    "                    print((x-delta+self.lon)//self.lat)\n",
    "                    raise\n",
    "                x += self.lon\n",
    "            else:\n",
    "                try:\n",
    "                    assert x//self.lat == (x-delta)//self.lat\n",
    "                except:\n",
    "                    print(x)\n",
    "                    print(delta)\n",
    "                    print(x-delta)\n",
    "                    print(x//self.lat)\n",
    "                    print((x-delta)//self.lat)\n",
    "                    raise\n",
    "            return x - delta\n",
    "\n",
    "        def east(x, fun=fun):\n",
    "            delta = fun(x)\n",
    "            if x%(self.lon)>=self.lon-delta:\n",
    "                try:\n",
    "                    assert x//self.lat == (x+delta-self.lon)//self.lat\n",
    "                except:\n",
    "                    print(x)\n",
    "                    print(delta)\n",
    "                    print(x+delta-self.lon)\n",
    "                    print(x//self.lat)\n",
    "                    print((x+delta-self.lon)//self.lat)\n",
    "                    raise\n",
    "                x -= self.lon\n",
    "            else:\n",
    "                try:\n",
    "                    assert x//self.lat == (x+delta)//self.lat\n",
    "                except:\n",
    "                    print(x)\n",
    "                    print(delta)\n",
    "                    print(x+delta)\n",
    "                    print(x//self.lat)\n",
    "                    print((x+delta)//self.lat)\n",
    "                    raise\n",
    "            return x + delta\n",
    "\n",
    "        col_index=[]\n",
    "        for ind in range(self.npix):\n",
    "            # first line is the same point, so is connected to all points of second line\n",
    "            if neighbors==8:\n",
    "                neighbor = [south(west(ind)), west(ind), north(west(ind)), north(ind), \n",
    "                            north(east(ind)), east(ind), south(east(ind)), south(ind)]\n",
    "            elif neighbors==4:\n",
    "                neighbor = [west(ind), north(ind), east(ind), south(ind)]\n",
    "            elif neighbors=='all':\n",
    "                neighbor = set(range(self.npix))-{ind}\n",
    "            else:\n",
    "                neighbor = []\n",
    "            #neighbor = np.asarray(neighbor)\n",
    "            col_index += list(neighbor)\n",
    "        col_index = np.asarray(col_index)\n",
    "        if neighbors == 'all':\n",
    "            neighbors = self.npix - 1\n",
    "        row_index = np.repeat(np.arange(self.npix), neighbors)\n",
    "        \n",
    "        keep = (col_index < self.npix)\n",
    "        keep &= (col_index >= 0)\n",
    "        col_index = col_index[keep]\n",
    "        row_index = row_index[keep]\n",
    "        \n",
    "        if w_mat is not 'one':\n",
    "            \n",
    "            if dist=='geodesic':\n",
    "                distances = np.zeros(len(row_index))\n",
    "                for i, (pos1, pos2) in enumerate(zip(coords[row_index], coords[col_index])):\n",
    "                    d1, d2 = hp.rotator.vec2dir(pos1.T, lonlat=False).T, hp.rotator.vec2dir(pos2.T, lonlat=False).T\n",
    "                    distances[i] = hp.rotator.angdist(d1, d2, lonlat=False)\n",
    "            else:\n",
    "                distances = np.sum((coords[row_index] - coords[col_index])**2, axis=1)\n",
    "\n",
    "            def fun(x):\n",
    "                \n",
    "                val = np.abs(np.arange(x)-x//2)\n",
    "                val = 0.3+val**1/200\n",
    "                return val\n",
    "            if delta != 'one':\n",
    "                distances[::2] = distances[::2]*4#*fun(len(distances[1::2]))\n",
    "            # Compute similarities / edge weights.\n",
    "            kernel_width = np.mean(distances)\n",
    "            kernel_width2 = np.median(distances)\n",
    "\n",
    "            slope = (kernel_width2*(0.95-affine))/(kernel_width2*0.95)\n",
    "            #distances[distances<(kernel_width2*0.95)] = affine*kernel_width2 + distances[distances<(kernel_width2*0.95)] * slope\n",
    "            distances[distances>(kernel_width2*0.95)] = affine*kernel_width2 + distances[distances>(kernel_width2*0.95)] * slope\n",
    "            if isinstance(w_mat, int):\n",
    "                kernel_width = weights\n",
    "            weights = np.exp(-distances / (2 * kernel_width2))\n",
    "#             weights = 1/distances\n",
    "\n",
    "            plt.hist(distances, 100)\n",
    "        if w_mat == 'one':\n",
    "            weights = np.ones((len(row_index),))\n",
    "            near_pole = col_index<2\n",
    "            near_pole &= col_index>self.lat-2\n",
    "            weights[near_pole] *= 0.1\n",
    "\n",
    "        # Similarity proposed by Renata & Pascal, ICCV 2017.\n",
    "        # weights = 1 / distances\n",
    "\n",
    "        # Build the sparse matrix.\n",
    "        W = sparse.csr_matrix(\n",
    "            (weights, (row_index, col_index)), shape=(self.npix, self.npix), dtype=np.float32)\n",
    "        \n",
    "        plotting = {\"limits\": np.array([-1, 1, -1, 1, -1, 1])}\n",
    "        super(SphereEquiangular, self).__init__(adjacency=W, coords=coords,\n",
    "                                     plotting=plotting, **kwargs)"
   ]
  },
  {
   "cell_type": "code",
   "execution_count": 64,
   "metadata": {},
   "outputs": [
    {
     "data": {
      "image/png": "[encoded data removed]",
      "text/plain": [
       "<Figure size 432x288 with 1 Axes>"
      ]
     },
     "metadata": {
      "needs_background": "light"
     },
     "output_type": "display_data"
    }
   ],
   "source": [
    "sphere = SphereEquiangular(bw=64, dist='euclidean', neighbors=8)"
   ]
  },
  {
   "cell_type": "code",
   "execution_count": 65,
   "metadata": {},
   "outputs": [
    {
     "data": {
      "text/plain": [
       "[<matplotlib.lines.Line2D at 0x1162e1340>]"
      ]
     },
     "execution_count": 65,
     "metadata": {},
     "output_type": "execute_result"
    },
    {
     "data": {
      "image/png": "[encoded data removed]",
      "text/plain": [
       "<Figure size 432x288 with 1 Axes>"
      ]
     },
     "metadata": {
      "needs_background": "light"
     },
     "output_type": "display_data"
    }
   ],
   "source": [
    "sphere.compute_fourier_basis(n_eigenvectors=50) \n",
    "plt.plot(sphere.e, 'bo')"
   ]
  },
  {
   "cell_type": "markdown",
   "metadata": {},
   "source": [
    "## 2.2) HEALPix"
   ]
  },
  {
   "cell_type": "markdown",
   "metadata": {},
   "source": [
    "### 2.2.1) cotan"
   ]
  },
  {
   "cell_type": "code",
   "execution_count": 18,
   "metadata": {},
   "outputs": [],
   "source": [
    "import healpy as hp\n",
    "\n",
    "def create_healpix(nside=32, nest=True):\n",
    "    npix = hp.nside2npix(nside)\n",
    "    indexes = np.arange(npix)\n",
    "    x, y, z = hp.pix2vec(nside, indexes, nest=nest)\n",
    "    coords = np.vstack([x, y, z]).transpose()\n",
    "    return np.asarray(coords, dtype=np.float32)"
   ]
  },
  {
   "cell_type": "code",
   "execution_count": 19,
   "metadata": {},
   "outputs": [
    {
     "name": "stderr",
     "output_type": "stream",
     "text": [
      "2019-12-09 12:21:31,756:[WARNING](pygsp.graphs.graph.__init__): Adjacency: there are negative edge weights.\n"
     ]
    }
   ],
   "source": [
    "coords = create_healpix()\n",
    "k = 50\n",
    "sphere = cotan(coords)\n",
    "sphere.e(k)"
   ]
  },
  {
   "cell_type": "code",
   "execution_count": 20,
   "metadata": {},
   "outputs": [
    {
     "data": {
      "application/vnd.jupyter.widget-view+json": {
       "model_id": "77fe1b4057a04a5caaa57cda9fde22f4",
       "version_major": 2,
       "version_minor": 0
      },
      "text/plain": [
       "Renderer(camera=PerspectiveCamera(children=(DirectionalLight(color='white', intensity=0.6, position=(0.0, 0.0,…"
      ]
     },
     "metadata": {},
     "output_type": "display_data"
    }
   ],
   "source": [
    "sphere.plot_e(49)"
   ]
  },
  {
   "cell_type": "code",
   "execution_count": 21,
   "metadata": {},
   "outputs": [
    {
     "data": {
      "text/plain": [
       "[<matplotlib.lines.Line2D at 0x1153845b0>]"
      ]
     },
     "execution_count": 21,
     "metadata": {},
     "output_type": "execute_result"
    },
    {
     "data": {
      "image/png": "[encoded data removed]",
      "text/plain": [
       "<Figure size 432x288 with 1 Axes>"
      ]
     },
     "metadata": {
      "needs_background": "light"
     },
     "output_type": "display_data"
    }
   ],
   "source": [
    "plt.plot(sphere.eig_values, 'bo')"
   ]
  },
  {
   "cell_type": "markdown",
   "metadata": {},
   "source": [
    "### 2.2.2) B&N"
   ]
  },
  {
   "cell_type": "code",
   "execution_count": 22,
   "metadata": {},
   "outputs": [],
   "source": [
    "from pygsp.graphs import SphereHealpix\n",
    "sphere = SphereHealpix(nside=32, n_neighbors=8)"
   ]
  },
  {
   "cell_type": "code",
   "execution_count": 23,
   "metadata": {},
   "outputs": [],
   "source": [
    "sphere.compute_fourier_basis(n_eigenvectors=50) "
   ]
  },
  {
   "cell_type": "code",
   "execution_count": 24,
   "metadata": {},
   "outputs": [
    {
     "data": {
      "text/plain": [
       "[<matplotlib.lines.Line2D at 0x1153f74f0>]"
      ]
     },
     "execution_count": 24,
     "metadata": {},
     "output_type": "execute_result"
    },
    {
     "data": {
      "image/png": "[encoded data removed]",
      "text/plain": [
       "<Figure size 432x288 with 1 Axes>"
      ]
     },
     "metadata": {
      "needs_background": "light"
     },
     "output_type": "display_data"
    }
   ],
   "source": [
    "plt.plot(sphere.e, 'bo')"
   ]
  },
  {
   "cell_type": "code",
   "execution_count": null,
   "metadata": {},
   "outputs": [],
   "source": []
  }
 ],
 "metadata": {
  "kernelspec": {
   "display_name": "transphere",
   "language": "python",
   "name": "myenv"
  },
  "language_info": {
   "codemirror_mode": {
    "name": "ipython",
    "version": 3
   },
   "file_extension": ".py",
   "mimetype": "text/x-python",
   "name": "python",
   "nbconvert_exporter": "python",
   "pygments_lexer": "ipython3",
   "version": "3.8.0"
  }
 },
 "nbformat": 4,
 "nbformat_minor": 2
}
